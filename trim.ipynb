{
 "cells": [
  {
   "cell_type": "code",
   "execution_count": 1,
   "metadata": {},
   "outputs": [],
   "source": [
    "import pandas as pd\n",
    "\n",
    "# Read the CSV file\n",
    "df = pd.read_csv('seattle-weather.csv')\n",
    "\n",
    "# Keep only the 'precipitation' and 'wind' columns\n",
    "trimmed_df = df[['precipitation', 'wind']]\n",
    "\n",
    "# Save the trimmed DataFrame to a new CSV file\n",
    "trimmed_df.to_csv('seattle-weather-trimmed.csv', index=False)\n",
    "\n",
    "# print(\"Trimmed CSV saved as 'seattle-weather-trimmed.csv'\")"
   ]
  }
 ],
 "metadata": {
  "kernelspec": {
   "display_name": "talk2chart",
   "language": "python",
   "name": "python3"
  },
  "language_info": {
   "codemirror_mode": {
    "name": "ipython",
    "version": 3
   },
   "file_extension": ".py",
   "mimetype": "text/x-python",
   "name": "python",
   "nbconvert_exporter": "python",
   "pygments_lexer": "ipython3",
   "version": "3.12.3"
  }
 },
 "nbformat": 4,
 "nbformat_minor": 2
}
